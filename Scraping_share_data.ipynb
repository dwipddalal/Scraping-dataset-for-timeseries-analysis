{
  "nbformat": 4,
  "nbformat_minor": 0,
  "metadata": {
    "colab": {
      "name": "Untitled57.ipynb",
      "provenance": []
    },
    "kernelspec": {
      "name": "python3",
      "display_name": "Python 3"
    },
    "language_info": {
      "name": "python"
    }
  },
  "cells": [
    {
      "cell_type": "code",
      "execution_count": 9,
      "metadata": {
        "id": "HObDm6ym3prt"
      },
      "outputs": [],
      "source": [
        "# Importing Libraries \n",
        "from bs4 import BeautifulSoup\n",
        "import requests\n",
        "import time\n",
        "# Url of webpage so as to extract real time bitcoin value in USD \n",
        "url = 'https://www.google.com/search?q=bitcoin+price&oq=bitcoin&aqs=chrome.0.0i67i131i433i457j69i57j0i67i131i433l2j0i131i433j0i67j0i67i131i433j0i131i433.2076j0j7&sourceid=chrome&ie=UTF-8'\n",
        "# request to webiste\n",
        "Html = requests.get(url)\n",
        "#Parsing HTML\n",
        "x = BeautifulSoup(Html.text, 'html.parser')\n",
        "# printing x to find where is the text which contains cryptocurrrency\n",
        "#print(x.prettify())"
      ]
    },
    {
      "cell_type": "code",
      "source": [
        "#creating function\n",
        "def get_crypto_price(coin):\n",
        "  # <div class=\"BNeawe iBp4i AP7Wnd\">\n",
        "  url = 'https://www.google.com/search?q='+coin+'+price&oq=bitcoin&aqs=chrome.0.0i67i131i433i457j69i57j0i67i131i433l2j0i131i433j0i67j0i67i131i433j0i131i433.2076j0j7&sourceid=chrome&ie=UTF-8'\n",
        "  Html = requests.get(url)\n",
        "  x = BeautifulSoup(Html.text, 'html.parser')\n",
        "  # calling text that has cryptocurrrency price\n",
        "  text =  x.find('div',attrs={'class':'BNeawe iBp4i AP7Wnd'}).find('div',attrs={'class':'BNeawe iBp4i AP7Wnd'}).text\n",
        "  return text\n",
        "\n",
        "price = get_crypto_price('bitcoin')"
      ],
      "metadata": {
        "id": "PBIYKfue-OVw"
      },
      "execution_count": 12,
      "outputs": []
    },
    {
      "cell_type": "code",
      "source": [
        "print(price)"
      ],
      "metadata": {
        "colab": {
          "base_uri": "https://localhost:8080/"
        },
        "id": "svoIQzE--VYa",
        "outputId": "9c848a2b-434f-4b52-dd75-0c46bb157dfb"
      },
      "execution_count": 13,
      "outputs": [
        {
          "output_type": "stream",
          "name": "stdout",
          "text": [
            "39,534.60 United States Dollar\n"
          ]
        }
      ]
    },
    {
      "cell_type": "code",
      "source": [
        "earlierprice = 0.0\n",
        "g = 0\n",
        "sum = 0.0\n",
        "LIst = [] # making an empty list\n",
        "# running an infinte loop\n",
        "while True:\n",
        "  cry = 'bitcoin'\n",
        "  price = get_crypto_price(cry)\n",
        "  g = g + 1\n",
        "  value = ''\n",
        "  # for converting sting to float \n",
        "  for i in price:\n",
        "    if (i == '1' or i == '2' or i == '3' or i == '4' or i == '5' or i == '6' or i == '7' or i == '8' or i == '0' or i == '9' or i == '.' ):\n",
        "      value = value+i\n",
        "  sum = sum + float(value)\n",
        "  avg_value = sum/g\n",
        "  LIst.append(float(value))\n",
        "# could give conditions for selecting and outputing those values that follow a specific patter.\n",
        "# here I shall collect values at every 10s and output and store and output all the values since that's what a model requires in general.\n",
        "  if True:\n",
        "    print(cry+ 'price:', price)\n",
        "    # get values in float    \n",
        "    percent = (float(value) - earlierprice)/float(value) * 100\n",
        "    #when g = 1 there is no meaning of printing percentage and rise in value\n",
        "    if (g != 1): \n",
        "      print('increment percentage:', percent, '%' )\n",
        "      print('Rise in value:', float(value) - earlierprice, 'United States Dollar')\n",
        "    else:\n",
        "      percent = 0\n",
        "    \n",
        "    earlierprice = float(value)\n",
        "    avg_increment = (float(value) - avg_value)/float(value) *100\n",
        "    print('average value:', avg_value)\n",
        "\n",
        "    # since for finding accurate average value we should take many reading so used if g>100 so that it shall print message after getting a lot of reading\n",
        "    if (g > 100): \n",
        "      print('avg_increment percentage:', avg_increment, '%' )\n",
        "      print('difference between current value and average value', float(value) - avg_value)\n",
        "    else:\n",
        "      avg_increment = 0\n",
        "    \n",
        "    print('MAX:', max(LIst))\n",
        "  # to suspend running for 10seconds\n",
        "  time.sleep(10)"
      ],
      "metadata": {
        "colab": {
          "base_uri": "https://localhost:8080/"
        },
        "id": "KbNWkd8H-TaD",
        "outputId": "03c40ed2-f1cb-4fbc-bd11-eda62aac9c7a"
      },
      "execution_count": null,
      "outputs": [
        {
          "output_type": "stream",
          "name": "stdout",
          "text": [
            "bitcoinprice: 39,534.60 United States Dollar\n",
            "average value: 39534.6\n",
            "MAX: 39534.6\n",
            "bitcoinprice: 39,534.60 United States Dollar\n",
            "increment percentage: 0.0 %\n",
            "Rise in value: 0.0 United States Dollar\n",
            "average value: 39534.6\n",
            "MAX: 39534.6\n"
          ]
        }
      ]
    },
    {
      "cell_type": "code",
      "source": [
        ""
      ],
      "metadata": {
        "id": "ye0DtRa4-Uhn"
      },
      "execution_count": null,
      "outputs": []
    }
  ]
}